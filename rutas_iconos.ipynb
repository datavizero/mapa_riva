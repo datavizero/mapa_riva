{
 "cells": [
  {
   "cell_type": "code",
   "execution_count": null,
   "id": "356160f1",
   "metadata": {},
   "outputs": [],
   "source": [
    "\n",
    "# Acumulación de residuos después de huracán: https://raw.githubusercontent.com/datavizero/mapa_riva/refs/heads/main/recycling-bag-trash-svgrepo-com.svg\n",
    "# Manglar contaminado: https://raw.githubusercontent.com/datavizero/mapa_riva/refs/heads/main/mangrove-svgrepo-com.svg\n",
    "# Manglar deforestado: https://raw.githubusercontent.com/datavizero/mapa_riva/refs/heads/main/mangrove-svgrepo-com%20(1).svg\n",
    "# Inundación de banqueta: https://raw.githubusercontent.com/datavizero/mapa_riva/refs/heads/main/outfall-svgrepo-com.svg\n",
    "# Inundación vial: igual\n",
    "# Restaurar funciones ecológicas clave: https://raw.githubusercontent.com/datavizero/mapa_riva/refs/heads/main/ecology-planet-svgrepo-com.svg\n",
    "# Fortalecer la gestión del agua: https://raw.githubusercontent.com/datavizero/mapa_riva/refs/heads/main/water-tool-construction-work-repair-svgrepo-com.svg\n",
    "# Prevenir riesgos en zonas vulnerables: https://raw.githubusercontent.com/datavizero/mapa_riva/refs/heads/main/notepad-security-svgrepo-com.svg\n",
    "# Mejorar la calidad del espacio público urbano: https://raw.githubusercontent.com/datavizero/mapa_riva/refs/heads/main/park-svgrepo-com.svg\n",
    "\n",
    "\n",
    "\n",
    "\n",
    "#   'https://raw.githubusercontent.com/datavizero/mapa_riva/refs/heads/main/recycling-bag-trash-svgrepo-com.svg'"
   ]
  }
 ],
 "metadata": {
  "language_info": {
   "name": "python"
  }
 },
 "nbformat": 4,
 "nbformat_minor": 5
}
